{
 "cells": [
  {
   "cell_type": "markdown",
   "metadata": {},
   "source": [
    "# Reparatietijd berekener door Koen, Guy en Ruben"
   ]
  },
  {
   "cell_type": "markdown",
   "metadata": {},
   "source": [
    "## Module Imports"
   ]
  },
  {
   "cell_type": "markdown",
   "metadata": {},
   "source": [
    " (Niet geïnstalleerd? Doe in command prompt: pip install *module_naam* (bijvoorbeeld pip install sklearn)"
   ]
  },
  {
   "cell_type": "code",
   "execution_count": 1,
   "metadata": {},
   "outputs": [],
   "source": [
    "import pandas as pd\n",
    "import numpy as np\n",
    "from sklearn import metrics\n",
    "from sklearn.model_selection import train_test_split\n",
    "from sklearn.metrics import r2_score\n",
    "from sklearn.ensemble import RandomForestRegressor\n",
    "from sklearn.tree import DecisionTreeRegressor"
   ]
  },
  {
   "cell_type": "markdown",
   "metadata": {},
   "source": [
    "## Data Voorbereiding"
   ]
  },
  {
   "cell_type": "code",
   "execution_count": 2,
   "metadata": {},
   "outputs": [],
   "source": [
    "def data_reading():\n",
    "    df = pd.read_csv('sap_storing_data_hu_project.csv', low_memory = False)\n",
    "    df = df.drop_duplicates(subset=['#stm_sap_meldnr'])\n",
    "    df = df.reset_index(drop=True)\n",
    "\n",
    "    df['stm_aanntpl_tijd']= pd.to_datetime(df['stm_aanntpl_tijd'])\n",
    "    df['stm_fh_ddt']= pd.to_datetime(df['stm_fh_ddt'])\n",
    "\n",
    "    # Calculate the true reparation time\n",
    "    df['stm_hers_tijd'] = (df['stm_fh_ddt'].dt.hour * 60 + df['stm_fh_ddt'].dt.minute) - (df['stm_aanntpl_tijd'].dt.hour * 60 + df['stm_aanntpl_tijd'].dt.minute)\n",
    "\n",
    "    df = df.dropna(subset=['stm_hers_tijd']) \n",
    "    df = df.reset_index(drop=True)\n",
    "    return df\n",
    "\n",
    "def prep_data(df, nan_columns):    \n",
    "    df = df.dropna(subset=nan_columns) #['stm_hers_tijd', 'stm_oorz_code', 'stm_prioriteit']\n",
    "    df = df.reset_index(drop=True)\n",
    "    df = df[(df['stm_hers_tijd'] >= 4) & (df['stm_hers_tijd'] <= 480)]\n",
    "    df = df.reset_index(drop=True)\n",
    "    return df"
   ]
  },
  {
   "cell_type": "markdown",
   "metadata": {},
   "source": [
    "## Model Gebruik"
   ]
  },
  {
   "cell_type": "code",
   "execution_count": 3,
   "metadata": {},
   "outputs": [],
   "source": [
    "def dtr_train_model(df, dummies_columns):\n",
    "    DummiesX = pd.get_dummies(data=df[dummies_columns]) # ['stm_oorz_code', 'stm_prioriteit']\n",
    "    y = df['stm_hers_tijd']\n",
    "    X_train, X_test, y_train, y_test = train_test_split(DummiesX, y, random_state=2)\n",
    "    DTR = DecisionTreeRegressor(max_depth=12, min_samples_leaf = 2)\n",
    "    DTR.fit(X_train,y_train)\n",
    "    return X_train, X_test, y_train, y_test, DTR\n",
    "\n",
    "def total_data_observation(X_train, X_test, y_train, y_test):\n",
    "    DTR = DecisionTreeRegressor(max_depth=12, min_samples_leaf = 2)\n",
    "    DTR.fit(X_train,y_train)\n",
    "    y_pred = DTR.predict(X_test)\n",
    "    # probability begin\n",
    "    nodes_y_train = pd.DataFrame({'node_id': DTR.apply(X_train), 'y': y_train})\n",
    "    nodes_std = nodes_y_train.groupby('node_id')['y'].agg(['std'])\n",
    "    y_proba = pd.DataFrame({'node_id': DTR.apply(X_test), 'node_rmse': 0})\n",
    "    for i in range(0, len(y_proba)):\n",
    "        y_proba['node_rmse'].iloc[i] = nodes_std['std'].loc[y_proba['node_id'].iloc[i]]\n",
    "        if np.mod(i, 10000) == 0:\n",
    "            print(\"\\ngevonden RMSE Waardes: \" + str(i)) \n",
    "    print(\"betrouwbaarheden per Node ID in RSME waardes:\\n\")\n",
    "    print(y_proba.sort_values(by='node_rmse', ascending = True))\n",
    "    # probility einde\n",
    "    RMSE = np.sqrt(metrics.mean_squared_error(y_test,y_pred))\n",
    "    r2 = r2_score(y_test, y_pred)\n",
    "    return r2, RMSE\n",
    "\n",
    "def one_input_tester(oorzaakcode, prioriteit, X_train, y_train, regr):\n",
    "    def dataframe_creator(oorzaakcode, prioriteit):\n",
    "        X_test = pd.DataFrame({'stm_oorz_code': [oorzaakcode], 'stm_prioriteit': [prioriteit]})\n",
    "        return X_test\n",
    "    \n",
    "    def predictor(regr, X_train, y_train, X_test):\n",
    "#         #probability begin:\n",
    "        nodes_y_train = pd.DataFrame({'node_id': regr.apply(X_train), 'y': y_train})\n",
    "        nodes_std = nodes_y_train.groupby('node_id')['y'].agg(['std'])\n",
    "        y_proba = pd.DataFrame({'node_id': regr.apply(X_test), 'node_rmse': 0})\n",
    "        for i in range(0, len(y_proba)):\n",
    "            y_proba['node_rmse'].iloc[i] = nodes_std['std'].loc[y_proba['node_id'].iloc[i]]\n",
    "        \n",
    "        betrouwbaarheid = y_proba.sort_values(by='node_rmse', ascending = True)\n",
    "        betrouwbaarheid = float(str(betrouwbaarheid)[35:-5])\n",
    "# #         #probability einde                       \n",
    "        y_pred = regr.predict(X_test)\n",
    "        output = round(y_pred[0])\n",
    "\n",
    "        return output, betrouwbaarheid\n",
    "    X_test = dataframe_creator(oorzaakcode, prioriteit)\n",
    "    output, betrouwbaarheid = predictor(regr, X_train, y_train, X_test)\n",
    "    return output, betrouwbaarheid\n",
    "\n",
    "\n",
    "\n"
   ]
  },
  {
   "cell_type": "markdown",
   "metadata": {},
   "source": [
    "Voer de volgende code 1x uit:"
   ]
  },
  {
   "cell_type": "code",
   "execution_count": 4,
   "metadata": {},
   "outputs": [],
   "source": [
    "df = data_reading()\n",
    "df_RFR = prep_data(df[['#stm_sap_meldnr', 'stm_hers_tijd', 'stm_oorz_groep','stm_prioriteit', 'stm_oorz_code']], ['stm_hers_tijd', 'stm_oorz_code', 'stm_prioriteit'])\n"
   ]
  },
  {
   "cell_type": "code",
   "execution_count": 5,
   "metadata": {},
   "outputs": [
    {
     "data": {
      "text/html": [
       "<div>\n",
       "<style scoped>\n",
       "    .dataframe tbody tr th:only-of-type {\n",
       "        vertical-align: middle;\n",
       "    }\n",
       "\n",
       "    .dataframe tbody tr th {\n",
       "        vertical-align: top;\n",
       "    }\n",
       "\n",
       "    .dataframe thead th {\n",
       "        text-align: right;\n",
       "    }\n",
       "</style>\n",
       "<table border=\"1\" class=\"dataframe\">\n",
       "  <thead>\n",
       "    <tr style=\"text-align: right;\">\n",
       "      <th></th>\n",
       "      <th>#stm_sap_meldnr</th>\n",
       "      <th>stm_hers_tijd</th>\n",
       "      <th>stm_oorz_groep</th>\n",
       "      <th>stm_prioriteit</th>\n",
       "      <th>stm_oorz_code</th>\n",
       "    </tr>\n",
       "  </thead>\n",
       "  <tbody>\n",
       "    <tr>\n",
       "      <th>0</th>\n",
       "      <td>50053257</td>\n",
       "      <td>62.0</td>\n",
       "      <td>ONR-DERD</td>\n",
       "      <td>9.0</td>\n",
       "      <td>142.0</td>\n",
       "    </tr>\n",
       "    <tr>\n",
       "      <th>1</th>\n",
       "      <td>50053290</td>\n",
       "      <td>40.0</td>\n",
       "      <td>ONR-DERD</td>\n",
       "      <td>9.0</td>\n",
       "      <td>142.0</td>\n",
       "    </tr>\n",
       "    <tr>\n",
       "      <th>2</th>\n",
       "      <td>50053292</td>\n",
       "      <td>214.0</td>\n",
       "      <td>ONR-DERD</td>\n",
       "      <td>9.0</td>\n",
       "      <td>145.0</td>\n",
       "    </tr>\n",
       "    <tr>\n",
       "      <th>3</th>\n",
       "      <td>50053317</td>\n",
       "      <td>425.0</td>\n",
       "      <td>WEER</td>\n",
       "      <td>9.0</td>\n",
       "      <td>189.0</td>\n",
       "    </tr>\n",
       "    <tr>\n",
       "      <th>4</th>\n",
       "      <td>50053337</td>\n",
       "      <td>405.0</td>\n",
       "      <td>ONR-DERD</td>\n",
       "      <td>9.0</td>\n",
       "      <td>142.0</td>\n",
       "    </tr>\n",
       "    <tr>\n",
       "      <th>...</th>\n",
       "      <td>...</td>\n",
       "      <td>...</td>\n",
       "      <td>...</td>\n",
       "      <td>...</td>\n",
       "      <td>...</td>\n",
       "    </tr>\n",
       "    <tr>\n",
       "      <th>344474</th>\n",
       "      <td>99003502</td>\n",
       "      <td>89.0</td>\n",
       "      <td>TECHONV</td>\n",
       "      <td>4.0</td>\n",
       "      <td>298.0</td>\n",
       "    </tr>\n",
       "    <tr>\n",
       "      <th>344475</th>\n",
       "      <td>99003503</td>\n",
       "      <td>179.0</td>\n",
       "      <td>TECHONV</td>\n",
       "      <td>4.0</td>\n",
       "      <td>221.0</td>\n",
       "    </tr>\n",
       "    <tr>\n",
       "      <th>344476</th>\n",
       "      <td>99003505</td>\n",
       "      <td>24.0</td>\n",
       "      <td>TECHONV</td>\n",
       "      <td>5.0</td>\n",
       "      <td>215.0</td>\n",
       "    </tr>\n",
       "    <tr>\n",
       "      <th>344477</th>\n",
       "      <td>99003506</td>\n",
       "      <td>36.0</td>\n",
       "      <td>TECHONV</td>\n",
       "      <td>2.0</td>\n",
       "      <td>218.0</td>\n",
       "    </tr>\n",
       "    <tr>\n",
       "      <th>344478</th>\n",
       "      <td>99999999</td>\n",
       "      <td>29.0</td>\n",
       "      <td>ONR-RIB</td>\n",
       "      <td>2.0</td>\n",
       "      <td>135.0</td>\n",
       "    </tr>\n",
       "  </tbody>\n",
       "</table>\n",
       "<p>344479 rows × 5 columns</p>\n",
       "</div>"
      ],
      "text/plain": [
       "        #stm_sap_meldnr  stm_hers_tijd stm_oorz_groep  stm_prioriteit  \\\n",
       "0              50053257           62.0       ONR-DERD             9.0   \n",
       "1              50053290           40.0       ONR-DERD             9.0   \n",
       "2              50053292          214.0       ONR-DERD             9.0   \n",
       "3              50053317          425.0           WEER             9.0   \n",
       "4              50053337          405.0       ONR-DERD             9.0   \n",
       "...                 ...            ...            ...             ...   \n",
       "344474         99003502           89.0        TECHONV             4.0   \n",
       "344475         99003503          179.0        TECHONV             4.0   \n",
       "344476         99003505           24.0        TECHONV             5.0   \n",
       "344477         99003506           36.0        TECHONV             2.0   \n",
       "344478         99999999           29.0        ONR-RIB             2.0   \n",
       "\n",
       "        stm_oorz_code  \n",
       "0               142.0  \n",
       "1               142.0  \n",
       "2               145.0  \n",
       "3               189.0  \n",
       "4               142.0  \n",
       "...               ...  \n",
       "344474          298.0  \n",
       "344475          221.0  \n",
       "344476          215.0  \n",
       "344477          218.0  \n",
       "344478          135.0  \n",
       "\n",
       "[344479 rows x 5 columns]"
      ]
     },
     "execution_count": 5,
     "metadata": {},
     "output_type": "execute_result"
    }
   ],
   "source": [
    "X_train, X_test, y_train, y_test, DTR = dtr_train_model (df_RFR, ['stm_oorz_code', 'stm_prioriteit'])\n",
    "df_RFR"
   ]
  },
  {
   "cell_type": "markdown",
   "metadata": {},
   "source": [
    "Voer de volgende code om achter de R2 score en Root Mean Square Error te weten van de hele model:"
   ]
  },
  {
   "cell_type": "code",
   "execution_count": 6,
   "metadata": {},
   "outputs": [
    {
     "name": "stdout",
     "output_type": "stream",
     "text": [
      "\n",
      "gevonden RMSE Waardes: 0\n"
     ]
    },
    {
     "name": "stderr",
     "output_type": "stream",
     "text": [
      "d:\\users\\ruben\\appdata\\local\\programs\\python\\python37\\lib\\site-packages\\pandas\\core\\indexing.py:670: SettingWithCopyWarning: \n",
      "A value is trying to be set on a copy of a slice from a DataFrame\n",
      "\n",
      "See the caveats in the documentation: https://pandas.pydata.org/pandas-docs/stable/user_guide/indexing.html#returning-a-view-versus-a-copy\n",
      "  iloc._setitem_with_indexer(indexer, value)\n"
     ]
    },
    {
     "name": "stdout",
     "output_type": "stream",
     "text": [
      "\n",
      "gevonden RMSE Waardes: 10000\n",
      "\n",
      "gevonden RMSE Waardes: 20000\n",
      "\n",
      "gevonden RMSE Waardes: 30000\n",
      "\n",
      "gevonden RMSE Waardes: 40000\n",
      "\n",
      "gevonden RMSE Waardes: 50000\n",
      "\n",
      "gevonden RMSE Waardes: 60000\n",
      "\n",
      "gevonden RMSE Waardes: 70000\n",
      "\n",
      "gevonden RMSE Waardes: 80000\n",
      "betrouwbaarheden per Node ID in RSME waardes:\n",
      "\n",
      "       node_id   node_rmse\n",
      "83455       71    7.595817\n",
      "82948       71    7.595817\n",
      "64678      154    8.292722\n",
      "65651      154    8.292722\n",
      "77963      154    8.292722\n",
      "...        ...         ...\n",
      "12634      532  226.718621\n",
      "14443      532  226.718621\n",
      "48470      532  226.718621\n",
      "58044      180  238.979288\n",
      "69258      180  238.979288\n",
      "\n",
      "[86120 rows x 2 columns]\n",
      "\n",
      "R2 score geeft: 0.07205396663970509 & Totale Root Mean Square Error waarde geeft: 74.75114908557924\n"
     ]
    }
   ],
   "source": [
    "r2, RMSE = total_data_observation(X_train, X_test, y_train, y_test)\n",
    "print(\"\\nR2 score geeft: {} & Totale Root Mean Square Error waarde geeft: {}\".format(r2, RMSE))"
   ]
  },
  {
   "cell_type": "markdown",
   "metadata": {},
   "source": [
    "Voer de volgende code om de model te testen met maar 2 inputs waardes:"
   ]
  },
  {
   "cell_type": "code",
   "execution_count": 7,
   "metadata": {},
   "outputs": [
    {
     "name": "stdout",
     "output_type": "stream",
     "text": [
      "\n",
      "Geschatte reparatietijd geeft: 100 & Betrouwbaarheid waarde geeft: 7\n"
     ]
    }
   ],
   "source": [
    "oorzaakcode = 66\n",
    "prioriteit = 8\n",
    "reparatietijd, betrouwbaarheid = one_input_tester (oorzaakcode, prioriteit, X_train, y_train, DTR)\n",
    "print(\"\\nGeschatte reparatietijd geeft: {} & Betrouwbaarheid waarde geeft: {}\".format(reparatietijd, round(betrouwbaarheid)))"
   ]
  },
  {
   "cell_type": "markdown",
   "metadata": {},
   "source": [
    "## Applicatie (check onderaan om alles te runnen)"
   ]
  },
  {
   "cell_type": "code",
   "execution_count": 8,
   "metadata": {},
   "outputs": [],
   "source": [
    "import pandas as pd\n",
    "import numpy as np\n",
    "import tkinter as tk\n",
    "from tkinter import *"
   ]
  },
  {
   "cell_type": "code",
   "execution_count": 9,
   "metadata": {},
   "outputs": [],
   "source": [
    "def application():\n",
    "    root = tk.Tk()\n",
    "\n",
    "    root.title(\"ProRail applicatie HBO-AI 2020 groep 3\")\n",
    "    proRailLogoColour = '#CD1E44'\n",
    "    backgroundColour = '#FFFFFF'\n",
    "\n",
    "    root.configure(background=backgroundColour)\n",
    "\n",
    "    def activateSendButton():\n",
    "        global oorzaakCode2\n",
    "        global prioriteit2\n",
    "        sendButton.config(text=\"Bereken Hersteltijd voor {}, {}\".format(oorzaakCode2, prioriteit2))\n",
    "        if len(oorzaakCode2) != 0:\n",
    "            if len(prioriteit2) != 0:\n",
    "                sendButton.config(state=NORMAL)\n",
    "\n",
    "    def oorzOnClick():\n",
    "        global oorzaakCode2\n",
    "        oorzaakCode2 = oorzEntry.get()\n",
    "        oorzLabel.config(text=\"Oorzaakcode: {}\".format(oorzaakCode2))\n",
    "        activateSendButton()\n",
    "        print(calculatedTime)\n",
    "    \n",
    "    \n",
    "\n",
    "    def prioOnClick():\n",
    "        global prioriteit2\n",
    "        prioriteit2 = prioEntry.get()\n",
    "        prioLabel.config(text=\"Prioriteit: {}\".format(prioriteit2))\n",
    "        activateSendButton()\n",
    "\n",
    "    def sendInfo():\n",
    "        sendButton.config(state=DISABLED)\n",
    "        # Hier output aftappen !!!\n",
    "        global oorzaakCode2\n",
    "        global prioriteit2\n",
    "        calculatedTime, betrouwbaarheid = one_input_tester (oorzaakCode2, prioriteit2, X_train, y_train, DTR)    \n",
    "        herstel2Label.config(text='{} minuten'.format(calculatedTime))\n",
    "        betr2Label.config(text='{}'.format(betrouwbaarheid))\n",
    "        \n",
    "        oorzaakCode2 = \"\"\n",
    "        prioriteit2 = \"\"\n",
    "        oorzLabel.config(text=\"Oorzaakcode: {}\".format(oorzaakCode2))\n",
    "        prioLabel.config(text=\"Prioriteit: {}\".format(prioriteit2))\n",
    "        sendButton.config(text=\"Bereken Hersteltijd\")\n",
    "\n",
    "    BlankFrame = Frame(master=root, bg=proRailLogoColour, width=800, height=10, pady=30)\n",
    "    BlankFrame.pack(fill=BOTH)\n",
    "\n",
    "    bgList = Frame(master=root, bg=backgroundColour, width=800)\n",
    "    bgList.pack(fill=BOTH)\n",
    "\n",
    "    meldnrFrame = Frame(master=bgList, bg=proRailLogoColour, width=800, height=0, pady=10, padx=70)\n",
    "    meldnrFrame.pack(fill=BOTH, side=TOP)\n",
    "\n",
    "    meldnrLabel = Label(master=meldnrFrame, text=\"Meldingnummer:\", \n",
    "                        foreground=\"black\", background=proRailLogoColour, font='Bold, 20', anchor=W)\n",
    "    meldnrLabel.pack(side=LEFT)\n",
    "\n",
    "    meldnrEntry = Entry(master=meldnrFrame, width=20, justify=LEFT, relief=RAISED, font='Bold, 16')\n",
    "    meldnrEntry.pack(side=LEFT)\n",
    "\n",
    "\n",
    "    oorzFrame = Frame(master=bgList, bg=proRailLogoColour, width=800, height=0, pady=10)\n",
    "    oorzFrame.pack(side=TOP)\n",
    "\n",
    "    oorzLabel = Label(master=oorzFrame, text=\"Oorzaakcode: {}\".format(oorzaakCode2), \n",
    "                        foreground=\"black\", background=proRailLogoColour, font='Bold, 18', anchor=W)\n",
    "    oorzLabel.pack(padx=30, anchor=NW, side=TOP)\n",
    "\n",
    "    invoerFrame = Frame(master=oorzFrame, bg=proRailLogoColour, width=600, height=0)\n",
    "    invoerFrame.pack(fill=BOTH, side=TOP)\n",
    "\n",
    "    oorzEntry = Entry(master=invoerFrame, width=20, justify=LEFT, relief=RAISED, font='Bold, 16')\n",
    "    oorzEntry.pack(fill=BOTH, side=LEFT, pady=10, padx=30)\n",
    "\n",
    "    oorzButton = Button(master=invoerFrame, command=oorzOnClick, text=\"Accepteer\", height=3, width=10)\n",
    "    oorzButton.pack(fill=BOTH, side=RIGHT, pady=10, padx=10)\n",
    "\n",
    "\n",
    "\n",
    "    prioFrame = Frame(master=bgList, bg=proRailLogoColour, width=800, height=0, pady=10)\n",
    "    prioFrame.pack(side=TOP)\n",
    "\n",
    "    prioLabel = Label(master=prioFrame, text=\"Prioriteit: {}\".format(prioriteit2),\n",
    "                        foreground=\"black\", background=proRailLogoColour, font='Bold, 18', anchor=W)\n",
    "    prioLabel.pack(padx=30, anchor=NW, side=TOP)\n",
    "\n",
    "    invoerFrame2 = Frame(master=prioFrame, bg=proRailLogoColour, width=600, height=0)\n",
    "    invoerFrame2.pack(fill=BOTH, side=TOP)\n",
    "\n",
    "    prioEntry = Entry(master=invoerFrame2, width=20, justify=LEFT, relief=RAISED, font='Bold, 16')\n",
    "    prioEntry.pack(fill=BOTH, side=LEFT, pady=10, padx=30)\n",
    "\n",
    "    prioButton = Button(master=invoerFrame2, command=prioOnClick, text=\"Accepteer\", height=3, width=10)\n",
    "    prioButton.pack(fill=BOTH, side=RIGHT, pady=10, padx=10)\n",
    "\n",
    "\n",
    "\n",
    "    sendFrame = Frame(master=bgList, bg=backgroundColour, width=800, height=0, pady=10)\n",
    "    sendFrame.pack(side=TOP)\n",
    "\n",
    "    sendButton = Button(master=sendFrame, command=sendInfo, text=\"Bereken Hersteltijd\", height=3, state=DISABLED)\n",
    "    sendButton.pack(fill=BOTH, pady=10, padx=20)\n",
    "\n",
    "\n",
    "\n",
    "    # Reparatietijd/hersteltijd en betrouwbaarheid\n",
    "\n",
    "    herstelFrame = Frame(master=bgList, bg=proRailLogoColour, width=800, height=0, pady=10)\n",
    "    herstelFrame.pack(side=TOP)\n",
    "\n",
    "    herstelLabel = Label(master=herstelFrame, text='Berekende hersteltijd:', font='Bold, 16', anchor=W, bg=proRailLogoColour)\n",
    "    herstelLabel.pack(padx=30, side=TOP)\n",
    "\n",
    "    herstel2Label = Label(master=herstelFrame, text='{}'.format(calculatedTime), font='Bold, 26', anchor=W)\n",
    "    herstel2Label.pack(padx=30, pady=40, side=TOP)\n",
    "\n",
    "    betrLabel = Label(master=herstelFrame, text='Betrouwbaarheid: \\n (Dichter bij 0 is beter)', font='Bold, 16', anchor=W, bg=proRailLogoColour)\n",
    "    betrLabel.pack(padx=30, side=TOP)\n",
    "\n",
    "    betr2Label = Label(master=herstelFrame, text='{}'.format(betrouwbaarheid), font='Bold, 26', anchor=W)\n",
    "    betr2Label.pack(padx=30, pady=40, side=TOP)\n",
    "\n",
    "\n",
    "\n",
    "    root.mainloop()"
   ]
  },
  {
   "cell_type": "markdown",
   "metadata": {},
   "source": [
    "#### Run beide 2 cellen om te runnen"
   ]
  },
  {
   "cell_type": "code",
   "execution_count": 10,
   "metadata": {},
   "outputs": [],
   "source": [
    "oorzaakCode2 = \"\"\n",
    "prioriteit2 = \"\"\n",
    "calculatedTime = \"\"\n",
    "betrouwbaarheid = \"\""
   ]
  },
  {
   "cell_type": "code",
   "execution_count": 11,
   "metadata": {},
   "outputs": [],
   "source": [
    "application()"
   ]
  },
  {
   "cell_type": "code",
   "execution_count": null,
   "metadata": {},
   "outputs": [],
   "source": []
  }
 ],
 "metadata": {
  "kernelspec": {
   "display_name": "Python 3",
   "language": "python",
   "name": "python3"
  },
  "language_info": {
   "codemirror_mode": {
    "name": "ipython",
    "version": 3
   },
   "file_extension": ".py",
   "mimetype": "text/x-python",
   "name": "python",
   "nbconvert_exporter": "python",
   "pygments_lexer": "ipython3",
   "version": "3.7.4"
  }
 },
 "nbformat": 4,
 "nbformat_minor": 4
}
