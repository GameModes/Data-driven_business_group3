{
 "cells": [
  {
   "cell_type": "code",
   "execution_count": 1,
   "metadata": {},
   "outputs": [],
   "source": [
    "import pandas as pd\n",
    "import numpy as np\n",
    "from sklearn import metrics\n",
    "from sklearn.model_selection import train_test_split\n",
    "from sklearn.metrics import r2_score\n",
    "from sklearn.ensemble import RandomForestRegressor"
   ]
  },
  {
   "cell_type": "code",
   "execution_count": null,
   "metadata": {},
   "outputs": [],
   "source": []
  },
  {
   "cell_type": "code",
   "execution_count": 56,
   "metadata": {},
   "outputs": [],
   "source": [
    "def Model_trainer_RandomForest(df, dummies_columns):\n",
    "    def prep_data(df, nan_columns):    \n",
    "        df = df.dropna(subset=nan_columns) #['stm_hers_tijd', 'stm_oorz_code', 'stm_prioriteit']\n",
    "        df = df.reset_index(drop=True)\n",
    "        df = df[(df['stm_hers_tijd'] >= 4) & (df['stm_hers_tijd'] <= 480)]\n",
    "        df = df.reset_index(drop=True)\n",
    "        return df\n",
    "    \n",
    "    def rfr_train_model (df, dummies_columns):\n",
    "        X_train = pd.get_dummies(data=df[dummies_columns]) # ['stm_oorz_code', 'stm_prioriteit']\n",
    "        y_train = df['stm_hers_tijd']\n",
    "        regr = RandomForestRegressor(max_depth=12, random_state=0)\n",
    "        regr.fit(X_train, y_train)\n",
    "        return X_train, y_train, regr\n",
    "    \n",
    "    df_RFR = prep_data(df[['#stm_sap_meldnr', 'stm_hers_tijd', 'stm_oorz_groep','stm_prioriteit', 'stm_oorz_code']], ['stm_hers_tijd', 'stm_oorz_code', 'stm_prioriteit'])\n",
    "    X_train, y_train, regr = rfr_train_model (df_RFR, dummies_columns)\n",
    "    return X_train, y_train, regr\n",
    "    \n",
    "def RandomForestTester (oorzaakcode, prioriteit, geschatte_tijd, X_train, y_train, regr):\n",
    "    def dataframe_creator(oorzaakcode, prioriteit, geschatte_tijd):\n",
    "        X_test = pd.DataFrame({'stm_oorz_code': [oorzaakcode], 'stm_prioriteit': [prioriteit]})\n",
    "        y_test = pd.DataFrame({'stm_hers_tijd': [geschatte_tijd]})\n",
    "        return X_test, y_test\n",
    "    \n",
    "    def predictor(regr, X_train, y_train, X_test, y_test):\n",
    "        y_pred = regr.predict(X_test)\n",
    "        meansquare = np.sqrt(metrics.mean_squared_error(y_test,y_pred))\n",
    "#         if geschatte_tijd != 0:\n",
    "#             output = \"Bij oorzaakcode {}, prioriteit {} met werkelijke tijd {} gokt het: {}, dus Hij zit er {} naast\".format(oorzaakcode, prioriteit, geschatte_tijd, round(y_pred[0]), round(meansquare))\n",
    "#         else:\n",
    "#             output = \"Bij oorzaakcode {}, prioriteit {} met onbekende werkelijke tijd gokt het: {}\".format(oorzaakcode, prioriteit, round(y_pred[0]))\n",
    "        output = round(y_pred[0])\n",
    "        return output\n",
    "    X_test, y_test = dataframe_creator(oorzaakcode, prioriteit, geschatte_tijd)\n",
    "    output = predictor(regr, X_train, y_train, X_test, y_test)\n",
    "    print(output)\n",
    "    return output\n",
    "\n",
    "def onetimerun():\n",
    "    df = pd.read_csv('sap_storing_data_hu_project.csv', low_memory = False)\n",
    "    df = df.drop_duplicates(subset=['#stm_sap_meldnr'])\n",
    "    df = df.reset_index(drop=True)\n",
    "\n",
    "    df['stm_aanntpl_tijd']= pd.to_datetime(df['stm_aanntpl_tijd'])\n",
    "    df['stm_fh_ddt']= pd.to_datetime(df['stm_fh_ddt'])\n",
    "\n",
    "    # Calculate the true reparation time\n",
    "    df['stm_hers_tijd'] = (df['stm_fh_ddt'].dt.hour * 60 + df['stm_fh_ddt'].dt.minute) - (df['stm_aanntpl_tijd'].dt.hour * 60 + df['stm_aanntpl_tijd'].dt.minute)\n",
    "\n",
    "    df = df.dropna(subset=['stm_hers_tijd']) \n",
    "    df = df.reset_index(drop=True)\n",
    "    return df"
   ]
  },
  {
   "cell_type": "code",
   "execution_count": null,
   "metadata": {},
   "outputs": [],
   "source": []
  },
  {
   "cell_type": "code",
   "execution_count": 3,
   "metadata": {},
   "outputs": [],
   "source": [
    "#only 1 time run\n",
    "df = onetimerun()"
   ]
  },
  {
   "cell_type": "code",
   "execution_count": 4,
   "metadata": {},
   "outputs": [],
   "source": [
    "#only 1 time run\n",
    "X_train, y_train, regr = Model_trainer_RandomForest(df, ['stm_oorz_code', 'stm_prioriteit'])"
   ]
  },
  {
   "cell_type": "code",
   "execution_count": 5,
   "metadata": {},
   "outputs": [],
   "source": [
    "oorzaakcode = 218\n",
    "prioriteit = 2\n",
    "geschatte_tijd = np.nan"
   ]
  },
  {
   "cell_type": "code",
   "execution_count": 57,
   "metadata": {},
   "outputs": [
    {
     "name": "stdout",
     "output_type": "stream",
     "text": [
      "48\n",
      "48\n"
     ]
    }
   ],
   "source": [
    "\n",
    "try:\n",
    "    print(RandomForestTester (oorzaakcode, prioriteit, geschatte_tijd, X_train, y_train, regr))\n",
    "except ValueError:\n",
    "    print(RandomForestTester (oorzaakcode, prioriteit, 0, X_train, y_train, regr))"
   ]
  },
  {
   "cell_type": "markdown",
   "metadata": {},
   "source": [
    "### Applicatie"
   ]
  },
  {
   "cell_type": "code",
   "execution_count": 85,
   "metadata": {},
   "outputs": [],
   "source": [
    "import pandas as pd\n",
    "import numpy as np\n",
    "import tkinter as tk\n",
    "from tkinter import *"
   ]
  },
  {
   "cell_type": "code",
   "execution_count": 86,
   "metadata": {},
   "outputs": [],
   "source": [
    "oorzaakCode2 = \"\"\n",
    "prioriteit2 = \"\"\n",
    "calculatedTime = \"\""
   ]
  },
  {
   "cell_type": "code",
   "execution_count": 87,
   "metadata": {},
   "outputs": [],
   "source": [
    "def application():\n",
    "    root = tk.Tk()\n",
    "\n",
    "    root.title(\"ProRail applicatie HBO-AI 2020 groep 3\")\n",
    "    proRailLogoColour = '#CD1E44'\n",
    "    backgroundColour = '#FFFFFF'\n",
    "\n",
    "    root.configure(background=backgroundColour)\n",
    "\n",
    "    def activateSendButton():\n",
    "        global oorzaakCode2\n",
    "        global prioriteit2\n",
    "        sendButton.config(text=\"Bereken Hersteltijd voor {}, {}\".format(oorzaakCode2, prioriteit2))\n",
    "        if len(oorzaakCode2) != 0:\n",
    "            if len(prioriteit2) != 0:\n",
    "                sendButton.config(state=NORMAL)\n",
    "\n",
    "    def oorzOnClick():\n",
    "        global oorzaakCode2\n",
    "        oorzaakCode2 = oorzEntry.get()\n",
    "        oorzLabel.config(text=\"Oorzaakcode: {}\".format(oorzaakCode2))\n",
    "        activateSendButton()\n",
    "        print(calculatedTime)\n",
    "    \n",
    "    \n",
    "\n",
    "    def prioOnClick():\n",
    "        global prioriteit2\n",
    "        prioriteit2 = prioEntry.get()\n",
    "        prioLabel.config(text=\"Prioriteit: {}\".format(prioriteit2))\n",
    "        activateSendButton()\n",
    "\n",
    "    def sendInfo():\n",
    "        sendButton.config(state=DISABLED)\n",
    "        # Hier output aftappen !!!\n",
    "        global oorzaakCode2\n",
    "        global prioriteit2\n",
    "        try:\n",
    "            calculatedTime = \"{} Minuten\".format(RandomForestTester (oorzaakCode2, prioriteit2, geschatte_tijd, X_train, y_train, regr))\n",
    "        except ValueError:\n",
    "            calculatedTime = \"{} Minuten\".format(RandomForestTester (oorzaakCode2, prioriteit2, 0, X_train, y_train, regr))\n",
    "        herstel2Label.config(text='{}'.format(calculatedTime))\n",
    "    \n",
    "        oorzaakCode2 = \"\"\n",
    "        prioriteit2 = \"\"\n",
    "        oorzLabel.config(text=\"Oorzaakcode: {}\".format(oorzaakCode2))\n",
    "        prioLabel.config(text=\"Prioriteit: {}\".format(prioriteit2))\n",
    "        sendButton.config(text=\"Bereken Hersteltijd\")\n",
    "\n",
    "    BlankFrame = Frame(master=root, bg=proRailLogoColour, width=800, height=10, pady=30)\n",
    "    BlankFrame.pack(fill=BOTH)\n",
    "\n",
    "    bgList = Frame(master=root, bg=backgroundColour, width=800)\n",
    "    bgList.pack(fill=BOTH)\n",
    "\n",
    "    meldnrFrame = Frame(master=bgList, bg=proRailLogoColour, width=800, height=0, pady=10)\n",
    "    meldnrFrame.pack(fill=BOTH, side=TOP)\n",
    "\n",
    "    meldnrLabel = Label(master=meldnrFrame, text=\"Meldingnummer: {}\".format(\"meldnr\"), \n",
    "                        foreground=\"black\", background=backgroundColour, font='Bold, 20', anchor=W)\n",
    "    meldnrLabel.pack(fill=BOTH, padx=50)\n",
    "\n",
    "\n",
    "\n",
    "    oorzFrame = Frame(master=bgList, bg=proRailLogoColour, width=800, height=0, pady=10)\n",
    "    oorzFrame.pack(side=TOP)\n",
    "\n",
    "    oorzLabel = Label(master=oorzFrame, text=\"Oorzaakcode: {}\".format(oorzaakCode2), \n",
    "                        foreground=\"black\", background=proRailLogoColour, font='Bold, 18', anchor=W)\n",
    "    oorzLabel.pack(padx=30, anchor=NW, side=TOP)\n",
    "\n",
    "    invoerFrame = Frame(master=oorzFrame, bg=proRailLogoColour, width=600, height=0)\n",
    "    invoerFrame.pack(fill=BOTH, side=TOP)\n",
    "\n",
    "    oorzEntry = Entry(master=invoerFrame, width=20, justify=LEFT, relief=RAISED, font='Bold, 16')\n",
    "    oorzEntry.pack(fill=BOTH, side=LEFT, pady=10, padx=30)\n",
    "\n",
    "    oorzButton = Button(master=invoerFrame, command=oorzOnClick, text=\"Accepteer\", height=3, width=10)\n",
    "    oorzButton.pack(fill=BOTH, side=RIGHT, pady=10, padx=10)\n",
    "\n",
    "\n",
    "\n",
    "    prioFrame = Frame(master=bgList, bg=proRailLogoColour, width=800, height=0, pady=10)\n",
    "    prioFrame.pack(side=TOP)\n",
    "\n",
    "    prioLabel = Label(master=prioFrame, text=\"Prioriteit: {}\".format(prioriteit2),\n",
    "                        foreground=\"black\", background=proRailLogoColour, font='Bold, 18', anchor=W)\n",
    "    prioLabel.pack(padx=30, anchor=NW, side=TOP)\n",
    "\n",
    "    invoerFrame2 = Frame(master=prioFrame, bg=proRailLogoColour, width=600, height=0)\n",
    "    invoerFrame2.pack(fill=BOTH, side=TOP)\n",
    "\n",
    "    prioEntry = Entry(master=invoerFrame2, width=20, justify=LEFT, relief=RAISED, font='Bold, 16')\n",
    "    prioEntry.pack(fill=BOTH, side=LEFT, pady=10, padx=30)\n",
    "\n",
    "    prioButton = Button(master=invoerFrame2, command=prioOnClick, text=\"Accepteer\", height=3, width=10)\n",
    "    prioButton.pack(fill=BOTH, side=RIGHT, pady=10, padx=10)\n",
    "\n",
    "\n",
    "\n",
    "    sendFrame = Frame(master=bgList, bg=backgroundColour, width=800, height=0, pady=10)\n",
    "    sendFrame.pack(side=TOP)\n",
    "\n",
    "    sendButton = Button(master=sendFrame, command=sendInfo, text=\"Bereken Hersteltijd\", height=3, state=DISABLED)\n",
    "    sendButton.pack(fill=BOTH, pady=10, padx=20)\n",
    "\n",
    "\n",
    "\n",
    "    # Reparatietijd/hersteltijd en betrouwbaarheid\n",
    "\n",
    "    herstelFrame = Frame(master=bgList, bg=proRailLogoColour, width=800, height=0, pady=10)\n",
    "    herstelFrame.pack(side=TOP)\n",
    "\n",
    "    herstelLabel = Label(master=herstelFrame, text='Berekende hersteltijd:', font='Bold, 16', anchor=W, bg=proRailLogoColour)\n",
    "    herstelLabel.pack(padx=30, side=TOP)\n",
    "\n",
    "    herstel2Label = Label(master=herstelFrame, text='{}'.format(calculatedTime), font='Bold, 26', anchor=W)\n",
    "    herstel2Label.pack(padx=30, pady=40, side=TOP)\n",
    "\n",
    "    betrLabel = Label(master=herstelFrame, text='Betrouwbaarheid:', font='Bold, 16', anchor=W, bg=proRailLogoColour)\n",
    "    betrLabel.pack(padx=30, side=TOP)\n",
    "\n",
    "    betr2Label = Label(master=herstelFrame, text='{}'.format(\"calculatedBetr\"), font='Bold, 26', anchor=W)\n",
    "    betr2Label.pack(padx=30, pady=40, side=TOP)\n",
    "\n",
    "\n",
    "\n",
    "    root.mainloop()"
   ]
  },
  {
   "cell_type": "code",
   "execution_count": 88,
   "metadata": {},
   "outputs": [],
   "source": [
    "application()"
   ]
  },
  {
   "cell_type": "code",
   "execution_count": null,
   "metadata": {},
   "outputs": [],
   "source": []
  }
 ],
 "metadata": {
  "kernelspec": {
   "display_name": "Python 3",
   "language": "python",
   "name": "python3"
  },
  "language_info": {
   "codemirror_mode": {
    "name": "ipython",
    "version": 3
   },
   "file_extension": ".py",
   "mimetype": "text/x-python",
   "name": "python",
   "nbconvert_exporter": "python",
   "pygments_lexer": "ipython3",
   "version": "3.7.4"
  }
 },
 "nbformat": 4,
 "nbformat_minor": 4
}
