{
 "cells": [
  {
   "cell_type": "code",
   "execution_count": 20,
   "metadata": {},
   "outputs": [],
   "source": [
    "import pandas as pd\n",
    "import numpy as np\n",
    "from sklearn import metrics\n",
    "from sklearn.model_selection import train_test_split\n",
    "from sklearn.metrics import r2_score\n",
    "from sklearn.ensemble import RandomForestRegressor"
   ]
  },
  {
   "cell_type": "code",
   "execution_count": null,
   "metadata": {},
   "outputs": [],
   "source": []
  },
  {
   "cell_type": "code",
   "execution_count": 22,
   "metadata": {},
   "outputs": [],
   "source": [
    "def Model_trainer_RandomForest(df, dummies_columns):\n",
    "    def prep_data(df, nan_columns):    \n",
    "        df = df.dropna(subset=nan_columns) #['stm_hers_tijd', 'stm_oorz_code', 'stm_prioriteit']\n",
    "        df = df.reset_index(drop=True)\n",
    "        df = df[(df['stm_hers_tijd'] >= 4) & (df['stm_hers_tijd'] <= 480)]\n",
    "        df = df.reset_index(drop=True)\n",
    "        return df\n",
    "    \n",
    "    def rfr_train_model (df, dummies_columns):\n",
    "        X_train = pd.get_dummies(data=df[dummies_columns]) # ['stm_oorz_code', 'stm_prioriteit']\n",
    "        y_train = df['stm_hers_tijd']\n",
    "        regr = RandomForestRegressor(max_depth=12, random_state=0)\n",
    "        regr.fit(X_train, y_train)\n",
    "        return X_train, y_train, regr\n",
    "    \n",
    "    df_RFR = prep_data(df[['#stm_sap_meldnr', 'stm_hers_tijd', 'stm_oorz_groep','stm_prioriteit', 'stm_oorz_code']], ['stm_hers_tijd', 'stm_oorz_code', 'stm_prioriteit'])\n",
    "    X_train, y_train, regr = rfr_train_model (df_RFR, dummies_columns)\n",
    "    return X_train, y_train, regr\n",
    "    \n",
    "def RandomForestTester (oorzaakcode, prioriteit, geschatte_tijd, X_train, y_train, regr):\n",
    "    def dataframe_creator(oorzaakcode, prioriteit, geschatte_tijd):\n",
    "        X_test = pd.DataFrame({'stm_oorz_code': [oorzaakcode], 'stm_prioriteit': [prioriteit]})\n",
    "        y_test = pd.DataFrame({'stm_hers_tijd': [geschatte_tijd]})\n",
    "        return X_test, y_test\n",
    "    \n",
    "    def predictor(regr, X_train, y_train, X_test, y_test):\n",
    "        y_pred = regr.predict(X_test)\n",
    "        meansquare = np.sqrt(metrics.mean_squared_error(y_test,y_pred))\n",
    "        if geschatte_tijd != 0:\n",
    "            output = \"Bij oorzaakcode {}, prioriteit {} met werkelijke tijd {} gokt het: {}, dus Hij zit er {} naast\".format(oorzaakcode, prioriteit, geschatte_tijd, round(y_pred[0]), round(meansquare))\n",
    "        else:\n",
    "            output = \"Bij oorzaakcode {}, prioriteit {} met onbekende werkelijke tijd gokt het: {}\".format(oorzaakcode, prioriteit, round(y_pred[0]))\n",
    "        return output\n",
    "    X_test, y_test = dataframe_creator(oorzaakcode, prioriteit, geschatte_tijd)\n",
    "    output = predictor(regr, X_train, y_train, X_test, y_test)\n",
    "    return output\n",
    "\n",
    "def onetimerun():\n",
    "    df = pd.read_csv('sap_storing_data_hu_project.csv', low_memory = False)\n",
    "    df = df.drop_duplicates(subset=['#stm_sap_meldnr'])\n",
    "    df = df.reset_index(drop=True)\n",
    "\n",
    "    df['stm_aanntpl_tijd']= pd.to_datetime(df['stm_aanntpl_tijd'])\n",
    "    df['stm_fh_ddt']= pd.to_datetime(df['stm_fh_ddt'])\n",
    "\n",
    "    # Calculate the true reparation time\n",
    "    df['stm_hers_tijd'] = (df['stm_fh_ddt'].dt.hour * 60 + df['stm_fh_ddt'].dt.minute) - (df['stm_aanntpl_tijd'].dt.hour * 60 + df['stm_aanntpl_tijd'].dt.minute)\n",
    "\n",
    "    df = df.dropna(subset=['stm_hers_tijd']) \n",
    "    df = df.reset_index(drop=True)\n",
    "    return df"
   ]
  },
  {
   "cell_type": "code",
   "execution_count": null,
   "metadata": {},
   "outputs": [],
   "source": []
  },
  {
   "cell_type": "code",
   "execution_count": null,
   "metadata": {},
   "outputs": [],
   "source": [
    "#only 1 time run\n",
    "df = onetimerun()"
   ]
  },
  {
   "cell_type": "code",
   "execution_count": null,
   "metadata": {},
   "outputs": [],
   "source": [
    "#only 1 time run\n",
    "X_train, y_train, regr = Model_trainer_RandomForest(df, ['stm_oorz_code', 'stm_prioriteit'])"
   ]
  },
  {
   "cell_type": "code",
   "execution_count": null,
   "metadata": {},
   "outputs": [],
   "source": [
    "oorzaakcode = 218\n",
    "prioriteit = 2\n",
    "geschatte_tijd = np.nan"
   ]
  },
  {
   "cell_type": "code",
   "execution_count": null,
   "metadata": {},
   "outputs": [],
   "source": [
    "try:\n",
    "    print(RandomForestTester (oorzaakcode, prioriteit, geschatte_tijd, X_train, y_train, regr))\n",
    "except ValueError:\n",
    "    print(RandomForestTester (oorzaakcode, prioriteit, 0, X_train, y_train, regr))"
   ]
  },
  {
   "cell_type": "code",
   "execution_count": null,
   "metadata": {},
   "outputs": [],
   "source": []
  }
 ],
 "metadata": {
  "kernelspec": {
   "display_name": "Python 3",
   "language": "python",
   "name": "python3"
  },
  "language_info": {
   "codemirror_mode": {
    "name": "ipython",
    "version": 3
   },
   "file_extension": ".py",
   "mimetype": "text/x-python",
   "name": "python",
   "nbconvert_exporter": "python",
   "pygments_lexer": "ipython3",
   "version": "3.7.4"
  }
 },
 "nbformat": 4,
 "nbformat_minor": 4
}
