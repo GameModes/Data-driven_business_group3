{
 "cells": [
  {
   "cell_type": "code",
   "execution_count": 1,
   "metadata": {},
   "outputs": [],
   "source": [
    "import pandas as pd\n",
    "import seaborn as sn\n",
    "import matplotlib.pyplot as plt\n",
    "import numpy as np\n",
    "from sklearn import metrics\n",
    "from sklearn.linear_model import LinearRegression\n",
    "from sklearn.model_selection import train_test_split\n",
    "from sklearn.metrics import r2_score\n",
    "from sklearn.ensemble import RandomForestRegressor"
   ]
  },
  {
   "cell_type": "code",
   "execution_count": 2,
   "metadata": {},
   "outputs": [],
   "source": [
    "df = pd.read_csv('sap_storing_data_hu_project.csv', low_memory = False)  "
   ]
  },
  {
   "cell_type": "markdown",
   "metadata": {},
   "source": [
    "# Remove duplicates, date time convert, hersteltijd created, dropped nans"
   ]
  },
  {
   "cell_type": "code",
   "execution_count": 3,
   "metadata": {},
   "outputs": [],
   "source": [
    "df = df.drop_duplicates(subset=['#stm_sap_meldnr'])\n",
    "df = df.reset_index(drop=True)\n",
    "\n",
    "df['stm_aanntpl_tijd']= pd.to_datetime(df['stm_aanntpl_tijd'])\n",
    "df['stm_fh_ddt']= pd.to_datetime(df['stm_fh_ddt'])\n",
    "\n",
    "# Calculate the true reparation time\n",
    "df['stm_hers_tijd'] = (df['stm_fh_ddt'].dt.hour * 60 + df['stm_fh_ddt'].dt.minute) - (df['stm_aanntpl_tijd'].dt.hour * 60 + df['stm_aanntpl_tijd'].dt.minute)\n",
    "\n",
    "df = df.dropna(subset=['stm_hers_tijd']) \n",
    "df = df.reset_index(drop=True)"
   ]
  },
  {
   "cell_type": "code",
   "execution_count": null,
   "metadata": {},
   "outputs": [],
   "source": []
  },
  {
   "cell_type": "markdown",
   "metadata": {},
   "source": [
    "# Linear regression"
   ]
  },
  {
   "cell_type": "code",
   "execution_count": 4,
   "metadata": {},
   "outputs": [],
   "source": [
    "df_LR = df[['#stm_sap_meldnr', 'stm_hers_tijd', 'stm_oorz_groep','stm_prioriteit', 'stm_oorz_code']]"
   ]
  },
  {
   "cell_type": "code",
   "execution_count": 5,
   "metadata": {},
   "outputs": [],
   "source": [
    "def prep_data(df, nan_columns):    \n",
    "    df = df.dropna(subset=nan_columns) #['stm_hers_tijd', 'stm_oorz_code', 'stm_prioriteit']\n",
    "    df = df.reset_index(drop=True)\n",
    "    \n",
    "    # TODO: waarom zoveel weggegooid, explain\n",
    "    df = df[(df['stm_hers_tijd'] >= 4) & (df['stm_hers_tijd'] <= 480)]\n",
    "    df = df.reset_index(drop=True)\n",
    "    return df"
   ]
  },
  {
   "cell_type": "code",
   "execution_count": 6,
   "metadata": {},
   "outputs": [],
   "source": [
    "def split_data (df, dummies_columns):\n",
    "    DummiesX = pd.get_dummies(data=df[dummies_columns]) # ['stm_oorz_code', 'stm_prioriteit']\n",
    "    y = df['stm_hers_tijd']\n",
    "    \n",
    "    X_train, X_test, y_train, y_test = train_test_split(DummiesX, y, random_state=2)\n",
    "    \n",
    "    return X_train, X_test, y_train, y_test"
   ]
  },
  {
   "cell_type": "code",
   "execution_count": 7,
   "metadata": {},
   "outputs": [],
   "source": [
    "def lr_train_model(X_train, X_test, y_train, y_test):\n",
    "    linreg = LinearRegression()\n",
    "    linreg.fit(X_train, y_train)\n",
    "\n",
    "    y_pred = linreg.predict(X_test)\n",
    "\n",
    "    RMSE = np.sqrt(metrics.mean_squared_error(y_test,y_pred))\n",
    "    r2 = r2_score(y_test,y_pred)"
   ]
  },
  {
   "cell_type": "code",
   "execution_count": 8,
   "metadata": {},
   "outputs": [],
   "source": [
    "df_LR = prep_data(df_LR, ['stm_hers_tijd', 'stm_oorz_code', 'stm_prioriteit'])"
   ]
  },
  {
   "cell_type": "code",
   "execution_count": 9,
   "metadata": {},
   "outputs": [],
   "source": [
    "X_train, X_test, y_train, y_test = split_data(df_LR, ['stm_oorz_code', 'stm_prioriteit'])"
   ]
  },
  {
   "cell_type": "code",
   "execution_count": 10,
   "metadata": {},
   "outputs": [],
   "source": [
    "lr_train_model(X_train, X_test, y_train, y_test)"
   ]
  },
  {
   "cell_type": "code",
   "execution_count": 11,
   "metadata": {},
   "outputs": [],
   "source": [
    "# def best_max_depth_calculator():\n",
    "#     depthlist = []\n",
    "#     depth_r2 = []\n",
    "#     for depth in range(1,15):\n",
    "#         regr = RandomForestRegressor(max_depth=depth, random_state=0)\n",
    "#         regr.fit(X_train, y_train)\n",
    "#         y_pred = regr.predict(X_test)\n",
    "#         depthlist.append(np.sqrt(metrics.mean_squared_error(y_test,y_pred)))\n",
    "#         depth_r2.append(r2_score(y_test, y_pred))\n",
    "#     return depthlist, depth_r2"
   ]
  },
  {
   "cell_type": "code",
   "execution_count": 12,
   "metadata": {},
   "outputs": [],
   "source": [
    "# best_max_depth_calculator()"
   ]
  },
  {
   "cell_type": "code",
   "execution_count": 13,
   "metadata": {},
   "outputs": [],
   "source": [
    "# met 12 voor max_depth is het beste, daarna gaat de RMSE score iets omhoog."
   ]
  },
  {
   "cell_type": "code",
   "execution_count": 14,
   "metadata": {},
   "outputs": [],
   "source": [
    "# met 12 voor max_depth is het beste, daarna gaat de RMSE score iets omhoog."
   ]
  },
  {
   "cell_type": "code",
   "execution_count": null,
   "metadata": {},
   "outputs": [],
   "source": []
  },
  {
   "cell_type": "markdown",
   "metadata": {},
   "source": [
    "# Decision Tree Regressor"
   ]
  },
  {
   "cell_type": "code",
   "execution_count": 50,
   "metadata": {},
   "outputs": [],
   "source": [
    "from sklearn.tree import DecisionTreeRegressor"
   ]
  },
  {
   "cell_type": "code",
   "execution_count": 60,
   "metadata": {},
   "outputs": [],
   "source": [
    "df_DTR = df[['#stm_sap_meldnr', 'stm_hers_tijd', 'stm_oorz_groep','stm_prioriteit', 'stm_oorz_code']]"
   ]
  },
  {
   "cell_type": "code",
   "execution_count": 61,
   "metadata": {},
   "outputs": [],
   "source": [
    "def dtr_train_model(X_train, X_test, y_train, y_test, maxDepth):\n",
    "    DTR = DecisionTreeRegressor(max_depth=maxDepth)\n",
    "    DTR.fit(X_train,y_train)\n",
    "    y_pred = DTR.predict(X_test)\n",
    "    RMSE = np.sqrt(metrics.mean_squared_error(y_test,y_pred))\n",
    "    r2 = r2_score(y_test, y_pred)\n",
    "    return r2, RMSE"
   ]
  },
  {
   "cell_type": "code",
   "execution_count": 62,
   "metadata": {},
   "outputs": [],
   "source": [
    "df_DTR = prep_data(df_DTR, ['stm_hers_tijd', 'stm_oorz_code', 'stm_prioriteit'])"
   ]
  },
  {
   "cell_type": "code",
   "execution_count": 63,
   "metadata": {},
   "outputs": [],
   "source": [
    "X_train, X_test, y_train, y_test = split_data(df_DTR, ['stm_oorz_code', 'stm_prioriteit'])"
   ]
  },
  {
   "cell_type": "code",
   "execution_count": 64,
   "metadata": {},
   "outputs": [
    {
     "data": {
      "text/plain": [
       "(0.016480960876911754, 76.9569591837372)"
      ]
     },
     "execution_count": 64,
     "metadata": {},
     "output_type": "execute_result"
    }
   ],
   "source": [
    "dtr_train_model(X_train, X_test, y_train, y_test, 2)"
   ]
  },
  {
   "cell_type": "code",
   "execution_count": 65,
   "metadata": {},
   "outputs": [],
   "source": [
    "from sklearn.tree import DecisionTreeRegressor\n",
    "\n",
    "def decision_tree_regressor_predict_proba(X_train, y_train, X_test, **kwargs):\n",
    "    \"\"\"Trains DecisionTreeRegressor model and predicts probabilities of each y.\n",
    "\n",
    "    Args:\n",
    "        X_train: Training features.\n",
    "        y_train: Training labels.\n",
    "        X_test: New data to predict on.\n",
    "        **kwargs: Other arguments passed to DecisionTreeRegressor.\n",
    "\n",
    "    Returns:\n",
    "        DataFrame with columns for record_id (row of X_test), y \n",
    "        (predicted value), and prob (of that y value).\n",
    "        The sum of prob equals 1 for each record_id.\n",
    "    \"\"\"\n",
    "    # Train model.\n",
    "    m = DecisionTreeRegressor(**kwargs).fit(X_train, y_train)\n",
    "    # Get y values corresponding to each node.\n",
    "    node_ys = pd.DataFrame({'node_id': m.apply(X_train), 'y': y_train})\n",
    "    print(node_ys)\n",
    "    # Calculate probability as 1 / number of y values per node.\n",
    "    node_ys['prob'] = 1 / node_ys.groupby(node_ys.node_id).transform('count')\n",
    "    # Aggregate per node-y, in case of multiple training records with the same y.\n",
    "    node_ys_dedup = node_ys.groupby(['node_id', 'y']).prob.sum().to_frame()\\\n",
    "        .reset_index()\n",
    "    # Extract predicted leaf node for each new observation.\n",
    "    leaf = pd.DataFrame(m.decision_path(X_test).toarray()).apply(\n",
    "        lambda x:x.to_numpy().nonzero()[0].max(), axis=1).to_frame(\n",
    "            name='node_id')\n",
    "    leaf['record_id'] = leaf.index\n",
    "    # Merge with y values and drop node_id.\n",
    "    return leaf.merge(node_ys_dedup, on='node_id').drop(\n",
    "        'node_id', axis=1).sort_values(['record_id', 'y'])"
   ]
  },
  {
   "cell_type": "code",
   "execution_count": 66,
   "metadata": {},
   "outputs": [
    {
     "name": "stdout",
     "output_type": "stream",
     "text": [
      "        node_id      y\n",
      "242455      181   50.0\n",
      "49341       536  150.0\n",
      "104996      181   15.0\n",
      "119100      626   66.0\n",
      "92276       510   60.0\n",
      "...         ...    ...\n",
      "33867       100   35.0\n",
      "84434       520   47.0\n",
      "95816       154    6.0\n",
      "203245      467   41.0\n",
      "100879      520   42.0\n",
      "\n",
      "[258359 rows x 2 columns]\n"
     ]
    }
   ],
   "source": [
    "df_prob = decision_tree_regressor_predict_proba(X_train, y_train, X_test, random_state=0)"
   ]
  },
  {
   "cell_type": "code",
   "execution_count": 67,
   "metadata": {},
   "outputs": [
    {
     "data": {
      "text/plain": [
       "Index(['record_id', 'y', 'prob'], dtype='object')"
      ]
     },
     "execution_count": 67,
     "metadata": {},
     "output_type": "execute_result"
    }
   ],
   "source": [
    "df_prob.columns"
   ]
  },
  {
   "cell_type": "code",
   "execution_count": 68,
   "metadata": {},
   "outputs": [
    {
     "data": {
      "text/html": [
       "<div>\n",
       "<style scoped>\n",
       "    .dataframe tbody tr th:only-of-type {\n",
       "        vertical-align: middle;\n",
       "    }\n",
       "\n",
       "    .dataframe tbody tr th {\n",
       "        vertical-align: top;\n",
       "    }\n",
       "\n",
       "    .dataframe thead th {\n",
       "        text-align: right;\n",
       "    }\n",
       "</style>\n",
       "<table border=\"1\" class=\"dataframe\">\n",
       "  <thead>\n",
       "    <tr style=\"text-align: right;\">\n",
       "      <th></th>\n",
       "      <th>record_id</th>\n",
       "      <th>y</th>\n",
       "      <th>prob</th>\n",
       "    </tr>\n",
       "  </thead>\n",
       "  <tbody>\n",
       "    <tr>\n",
       "      <th>27435716</th>\n",
       "      <td>15849</td>\n",
       "      <td>464.0</td>\n",
       "      <td>1.000000</td>\n",
       "    </tr>\n",
       "    <tr>\n",
       "      <th>25485463</th>\n",
       "      <td>72887</td>\n",
       "      <td>270.0</td>\n",
       "      <td>1.000000</td>\n",
       "    </tr>\n",
       "    <tr>\n",
       "      <th>27437896</th>\n",
       "      <td>48470</td>\n",
       "      <td>422.0</td>\n",
       "      <td>1.000000</td>\n",
       "    </tr>\n",
       "    <tr>\n",
       "      <th>27438105</th>\n",
       "      <td>79422</td>\n",
       "      <td>96.0</td>\n",
       "      <td>1.000000</td>\n",
       "    </tr>\n",
       "    <tr>\n",
       "      <th>27433752</th>\n",
       "      <td>13229</td>\n",
       "      <td>66.0</td>\n",
       "      <td>1.000000</td>\n",
       "    </tr>\n",
       "    <tr>\n",
       "      <th>...</th>\n",
       "      <td>...</td>\n",
       "      <td>...</td>\n",
       "      <td>...</td>\n",
       "    </tr>\n",
       "    <tr>\n",
       "      <th>4738783</th>\n",
       "      <td>57293</td>\n",
       "      <td>377.0</td>\n",
       "      <td>0.000066</td>\n",
       "    </tr>\n",
       "    <tr>\n",
       "      <th>4890614</th>\n",
       "      <td>63111</td>\n",
       "      <td>219.0</td>\n",
       "      <td>0.000066</td>\n",
       "    </tr>\n",
       "    <tr>\n",
       "      <th>4890661</th>\n",
       "      <td>63111</td>\n",
       "      <td>266.0</td>\n",
       "      <td>0.000066</td>\n",
       "    </tr>\n",
       "    <tr>\n",
       "      <th>4357988</th>\n",
       "      <td>42361</td>\n",
       "      <td>433.0</td>\n",
       "      <td>0.000066</td>\n",
       "    </tr>\n",
       "    <tr>\n",
       "      <th>4796947</th>\n",
       "      <td>59454</td>\n",
       "      <td>441.0</td>\n",
       "      <td>0.000066</td>\n",
       "    </tr>\n",
       "  </tbody>\n",
       "</table>\n",
       "<p>27438139 rows × 3 columns</p>\n",
       "</div>"
      ],
      "text/plain": [
       "          record_id      y      prob\n",
       "27435716      15849  464.0  1.000000\n",
       "25485463      72887  270.0  1.000000\n",
       "27437896      48470  422.0  1.000000\n",
       "27438105      79422   96.0  1.000000\n",
       "27433752      13229   66.0  1.000000\n",
       "...             ...    ...       ...\n",
       "4738783       57293  377.0  0.000066\n",
       "4890614       63111  219.0  0.000066\n",
       "4890661       63111  266.0  0.000066\n",
       "4357988       42361  433.0  0.000066\n",
       "4796947       59454  441.0  0.000066\n",
       "\n",
       "[27438139 rows x 3 columns]"
      ]
     },
     "execution_count": 68,
     "metadata": {},
     "output_type": "execute_result"
    }
   ],
   "source": [
    "df_prob.sort_values(by='prob', ascending=False)"
   ]
  },
  {
   "cell_type": "markdown",
   "metadata": {},
   "source": [
    "# Random Forest Regressor"
   ]
  },
  {
   "cell_type": "code",
   "execution_count": 23,
   "metadata": {},
   "outputs": [],
   "source": [
    "df_RFR = df[['#stm_sap_meldnr', 'stm_hers_tijd', 'stm_oorz_groep','stm_prioriteit', 'stm_oorz_code']]\n",
    "    \n",
    "def rfr_train_model (X_train, X_test, y_train, y_test, maxDepth):\n",
    "    regr = RandomForestRegressor(max_depth=maxDepth, random_state=0)\n",
    "    regr.fit(X_train, y_train)\n",
    "    y_pred = regr.predict(X_test)\n",
    "    meansquare = np.sqrt(metrics.mean_squared_error(y_test,y_pred))\n",
    "    r2 = r2_score(y_test, y_pred)\n",
    "    return r2, meansquare\n",
    "\n",
    "def rfc_train_model (X_train, X_test, y_train, y_test):\n",
    "    clf = RandomForestClassifier(max_depth=15, random_state=0)\n",
    "    clf.fit(X_train, y_train)\n",
    "    y_pred = clf.predict(X_test)\n",
    "    meansquare = np.sqrt(metrics.mean_squared_error(y_test,y_pred))\n",
    "    r2 = r2_score(y_test, y_pred)\n",
    "    return r2, meansquare"
   ]
  },
  {
   "cell_type": "code",
   "execution_count": 24,
   "metadata": {},
   "outputs": [],
   "source": [
    "df_RFR = prep_data(df_RFR, ['stm_hers_tijd', 'stm_oorz_code', 'stm_prioriteit'])"
   ]
  },
  {
   "cell_type": "code",
   "execution_count": 25,
   "metadata": {},
   "outputs": [],
   "source": [
    "X_train, X_test, y_train, y_test = split_data(df_RFR, ['stm_oorz_code', 'stm_prioriteit'])"
   ]
  },
  {
   "cell_type": "code",
   "execution_count": 26,
   "metadata": {},
   "outputs": [
    {
     "data": {
      "text/plain": [
       "(0.0720348860973693, 74.75191760286457)"
      ]
     },
     "execution_count": 26,
     "metadata": {},
     "output_type": "execute_result"
    }
   ],
   "source": [
    "rfr_train_model(X_train, X_test, y_train, y_test, 12)"
   ]
  }
 ],
 "metadata": {
  "kernelspec": {
   "display_name": "Python 3",
   "language": "python",
   "name": "python3"
  },
  "language_info": {
   "codemirror_mode": {
    "name": "ipython",
    "version": 3
   },
   "file_extension": ".py",
   "mimetype": "text/x-python",
   "name": "python",
   "nbconvert_exporter": "python",
   "pygments_lexer": "ipython3",
   "version": "3.8.3"
  }
 },
 "nbformat": 4,
 "nbformat_minor": 4
}
