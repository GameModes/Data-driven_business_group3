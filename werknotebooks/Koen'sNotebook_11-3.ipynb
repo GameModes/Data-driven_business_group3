{
 "cells": [
  {
   "cell_type": "code",
   "execution_count": 2847,
   "metadata": {},
   "outputs": [],
   "source": [
    "import pandas as pd\n",
    "import numpy as np\n",
    "import tkinter as tk\n",
    "from tkinter import *"
   ]
  },
  {
   "cell_type": "code",
   "execution_count": 2848,
   "metadata": {},
   "outputs": [],
   "source": [
    "root = tk.Tk()"
   ]
  },
  {
   "cell_type": "code",
   "execution_count": 2849,
   "metadata": {},
   "outputs": [],
   "source": [
    "root.title(\"ProRail applicatie HBO-AI 2020 groep 3\")\n",
    "proRailLogoColour = '#CD1E44'\n",
    "backgroundColour = '#ECDD7B'\n",
    "oorzaakCode = \"\"\n",
    "prioriteit = \"\"\n",
    "root.configure(background=backgroundColour)\n",
    "# greeting.pack()"
   ]
  },
  {
   "cell_type": "code",
   "execution_count": 2850,
   "metadata": {},
   "outputs": [],
   "source": [
    "def activateSendButton():\n",
    "    global oorzaakCode\n",
    "    global prioriteit\n",
    "    sendButton.config(text=\"Bereken Hersteltijd voor {}, {}\".format(oorzaakCode, prioriteit))\n",
    "    if len(oorzaakCode) != 0:\n",
    "        if len(prioriteit) != 0:\n",
    "            sendButton.config(state=NORMAL)\n",
    "\n",
    "def oorzOnClick():\n",
    "    global oorzaakCode\n",
    "    oorzaakCode = oorzEntry.get()\n",
    "    oorzLabel.config(text=\"Oorzaakcode: {}\".format(oorzaakCode))\n",
    "    activateSendButton()\n",
    "\n",
    "def prioOnClick():\n",
    "    global prioriteit\n",
    "    prioriteit = prioEntry.get()\n",
    "    prioLabel.config(text=\"Prioriteit: {}\".format(prioriteit))\n",
    "    activateSendButton()\n",
    "    \n",
    "def sendInfo():\n",
    "    sendButton.config(state=DISABLED)\n",
    "    # Hier output aftappen !!!\n",
    "    global oorzaakCode\n",
    "    global prioriteit\n",
    "    oorzaakCode = \"\"\n",
    "    prioriteit = \"\"\n",
    "    oorzLabel.config(text=\"Oorzaakcode: {}\".format(oorzaakCode))\n",
    "    prioLabel.config(text=\"Prioriteit: {}\".format(prioriteit))\n",
    "    sendButton.config(text=\"Bereken Hersteltijd\")"
   ]
  },
  {
   "cell_type": "code",
   "execution_count": 2851,
   "metadata": {},
   "outputs": [],
   "source": [
    "BlankFrame = Frame(master=root, bg=proRailLogoColour, width=800, height=10, pady=30)\n",
    "BlankFrame.pack(fill=BOTH)"
   ]
  },
  {
   "cell_type": "code",
   "execution_count": 2852,
   "metadata": {},
   "outputs": [],
   "source": [
    "bgList = Frame(master=root, bg=backgroundColour, width=800)\n",
    "bgList.pack(fill=BOTH)"
   ]
  },
  {
   "cell_type": "code",
   "execution_count": 2853,
   "metadata": {},
   "outputs": [],
   "source": [
    "meldnrFrame = Frame(master=bgList, bg='grey', width=800, height=0, pady=10)\n",
    "meldnrFrame.pack(fill=BOTH, side=TOP)"
   ]
  },
  {
   "cell_type": "code",
   "execution_count": 2854,
   "metadata": {},
   "outputs": [],
   "source": [
    "meldnrLabel = Label(master=meldnrFrame, text=\"Meldingnummer: {}\".format(\"meldnr\"), \n",
    "                    foreground=\"black\", background=backgroundColour, font='Bold, 20', anchor=W)\n",
    "meldnrLabel.pack(fill=BOTH, padx=50)"
   ]
  },
  {
   "cell_type": "code",
   "execution_count": null,
   "metadata": {},
   "outputs": [],
   "source": []
  },
  {
   "cell_type": "code",
   "execution_count": 2855,
   "metadata": {},
   "outputs": [],
   "source": [
    "oorzFrame = Frame(master=bgList, bg='green', width=800, height=0, pady=10)\n",
    "oorzFrame.pack(side=TOP)"
   ]
  },
  {
   "cell_type": "code",
   "execution_count": 2856,
   "metadata": {},
   "outputs": [],
   "source": [
    "oorzLabel = Label(master=oorzFrame, text=\"Oorzaakcode: {}\".format(oorzaakCode), \n",
    "                    foreground=\"black\", background='cyan', font='Bold, 18', anchor=W)\n",
    "oorzLabel.pack(padx=30, anchor=NW, side=TOP)"
   ]
  },
  {
   "cell_type": "code",
   "execution_count": 2857,
   "metadata": {},
   "outputs": [],
   "source": [
    "invoerFrame = Frame(master=oorzFrame, bg='yellow', width=600, height=0)\n",
    "invoerFrame.pack(fill=BOTH, side=TOP)"
   ]
  },
  {
   "cell_type": "code",
   "execution_count": 2858,
   "metadata": {},
   "outputs": [],
   "source": [
    "oorzEntry = Entry(master=invoerFrame, width=20, justify=LEFT, relief=RAISED, font='Bold, 16')\n",
    "oorzEntry.pack(fill=BOTH, side=LEFT, pady=10, padx=30)"
   ]
  },
  {
   "cell_type": "code",
   "execution_count": 2859,
   "metadata": {},
   "outputs": [],
   "source": [
    "oorzButton = Button(master=invoerFrame, command=oorzOnClick, text=\"Accepteer\", height=3, width=10)\n",
    "oorzButton.pack(fill=BOTH, side=RIGHT, pady=10, padx=10)"
   ]
  },
  {
   "cell_type": "code",
   "execution_count": null,
   "metadata": {},
   "outputs": [],
   "source": []
  },
  {
   "cell_type": "code",
   "execution_count": 2860,
   "metadata": {},
   "outputs": [],
   "source": [
    "prioFrame = Frame(master=bgList, bg='blue', width=800, height=0, pady=10)\n",
    "prioFrame.pack(side=TOP)"
   ]
  },
  {
   "cell_type": "code",
   "execution_count": 2861,
   "metadata": {},
   "outputs": [],
   "source": [
    "prioLabel = Label(master=prioFrame, text=\"Prioriteit: {}\".format(prioriteit),\n",
    "                    foreground=\"black\", background='cyan', font='Bold, 18', anchor=W)\n",
    "prioLabel.pack(padx=30, anchor=NW, side=TOP)"
   ]
  },
  {
   "cell_type": "code",
   "execution_count": 2862,
   "metadata": {},
   "outputs": [],
   "source": [
    "invoerFrame2 = Frame(master=prioFrame, bg='yellow', width=600, height=0)\n",
    "invoerFrame2.pack(fill=BOTH, side=TOP)"
   ]
  },
  {
   "cell_type": "code",
   "execution_count": 2863,
   "metadata": {},
   "outputs": [],
   "source": [
    "prioEntry = Entry(master=invoerFrame2, width=20, justify=LEFT, relief=RAISED, font='Bold, 16')\n",
    "prioEntry.pack(fill=BOTH, side=LEFT, pady=10, padx=30)"
   ]
  },
  {
   "cell_type": "code",
   "execution_count": 2864,
   "metadata": {},
   "outputs": [],
   "source": [
    "prioButton = Button(master=invoerFrame2, command=prioOnClick, text=\"Accepteer\", height=3, width=10)\n",
    "prioButton.pack(fill=BOTH, side=RIGHT, pady=10, padx=10)"
   ]
  },
  {
   "cell_type": "code",
   "execution_count": null,
   "metadata": {},
   "outputs": [],
   "source": []
  },
  {
   "cell_type": "code",
   "execution_count": 2865,
   "metadata": {},
   "outputs": [],
   "source": [
    "sendFrame = Frame(master=bgList, bg='white', width=800, height=0, pady=10)\n",
    "sendFrame.pack(side=TOP)"
   ]
  },
  {
   "cell_type": "code",
   "execution_count": 2866,
   "metadata": {},
   "outputs": [],
   "source": [
    "sendButton = Button(master=sendFrame, command=sendInfo, text=\"Bereken Hersteltijd\", height=3, state=DISABLED)\n",
    "sendButton.pack(fill=BOTH, pady=10, padx=20)"
   ]
  },
  {
   "cell_type": "code",
   "execution_count": null,
   "metadata": {},
   "outputs": [],
   "source": []
  },
  {
   "cell_type": "code",
   "execution_count": 2867,
   "metadata": {},
   "outputs": [],
   "source": [
    "# Reparatietijd/hersteltijd en betrouwbaarheid"
   ]
  },
  {
   "cell_type": "code",
   "execution_count": 2868,
   "metadata": {},
   "outputs": [],
   "source": [
    "herstelFrame = Frame(master=bgList, bg='lightgrey', width=800, height=0, pady=10)\n",
    "herstelFrame.pack(side=TOP)"
   ]
  },
  {
   "cell_type": "code",
   "execution_count": 2869,
   "metadata": {},
   "outputs": [],
   "source": [
    "herstelLabel = Label(master=herstelFrame, text='Berekende hersteltijd:', font='Bold, 16', anchor=W)\n",
    "herstelLabel.pack(padx=30, side=TOP)"
   ]
  },
  {
   "cell_type": "code",
   "execution_count": 2870,
   "metadata": {},
   "outputs": [],
   "source": [
    "herstel2Label = Label(master=herstelFrame, text='{}'.format(\"calculatedTime\"), font='Bold, 26', anchor=W)\n",
    "herstel2Label.pack(padx=30, pady=40, side=TOP)"
   ]
  },
  {
   "cell_type": "code",
   "execution_count": 2871,
   "metadata": {},
   "outputs": [],
   "source": [
    "betrLabel = Label(master=herstelFrame, text='Betrouwbaarheid:', font='Bold, 16', anchor=W)\n",
    "betrLabel.pack(padx=30, side=TOP)"
   ]
  },
  {
   "cell_type": "code",
   "execution_count": 2872,
   "metadata": {},
   "outputs": [],
   "source": [
    "betr2Label = Label(master=herstelFrame, text='{}'.format(\"calculatedBetr\"), font='Bold, 26', anchor=W)\n",
    "betr2Label.pack(padx=30, pady=40, side=TOP)"
   ]
  },
  {
   "cell_type": "code",
   "execution_count": null,
   "metadata": {},
   "outputs": [],
   "source": []
  },
  {
   "cell_type": "code",
   "execution_count": 2873,
   "metadata": {},
   "outputs": [],
   "source": [
    "root.mainloop()"
   ]
  }
 ],
 "metadata": {
  "anaconda-cloud": {},
  "kernelspec": {
   "display_name": "Python 3",
   "language": "python",
   "name": "python3"
  },
  "language_info": {
   "codemirror_mode": {
    "name": "ipython",
    "version": 3
   },
   "file_extension": ".py",
   "mimetype": "text/x-python",
   "name": "python",
   "nbconvert_exporter": "python",
   "pygments_lexer": "ipython3",
   "version": "3.8.3"
  }
 },
 "nbformat": 4,
 "nbformat_minor": 1
}
