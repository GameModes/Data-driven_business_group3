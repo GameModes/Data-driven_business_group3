{
 "cells": [
  {
   "cell_type": "code",
   "execution_count": 1,
   "metadata": {},
   "outputs": [],
   "source": [
    "import pandas as pd\n",
    "import seaborn as sn\n",
    "import matplotlib.pyplot as plt\n",
    "import numpy as np\n",
    "from sklearn import metrics\n",
    "from sklearn.linear_model import LinearRegression\n",
    "from sklearn.model_selection import train_test_split\n",
    "from sklearn.metrics import r2_score\n",
    "from sklearn.tree import DecisionTreeRegressor"
   ]
  },
  {
   "cell_type": "code",
   "execution_count": 2,
   "metadata": {},
   "outputs": [],
   "source": [
    "df = pd.read_csv('sap_storing_data_hu_project.csv', low_memory = False)  "
   ]
  },
  {
   "cell_type": "markdown",
   "metadata": {},
   "source": [
    "# Remove duplicates, date time convert, hersteltijd created, dropped nans"
   ]
  },
  {
   "cell_type": "code",
   "execution_count": 3,
   "metadata": {},
   "outputs": [
    {
     "data": {
      "text/plain": [
       "#stm_sap_meldnr        0\n",
       "stm_hers_tijd          0\n",
       "stm_oorz_groep     15254\n",
       "stm_prioriteit         0\n",
       "stm_oorz_code      15254\n",
       "dtype: int64"
      ]
     },
     "execution_count": 3,
     "metadata": {},
     "output_type": "execute_result"
    }
   ],
   "source": [
    "df = df.drop_duplicates(subset=['#stm_sap_meldnr'])\n",
    "df = df.reset_index(drop=True)\n",
    "\n",
    "df['stm_aanntpl_tijd']= pd.to_datetime(df['stm_aanntpl_tijd'])\n",
    "df['stm_fh_ddt']= pd.to_datetime(df['stm_fh_ddt'])\n",
    "\n",
    "# Calculate the true reparation time\n",
    "df['stm_hers_tijd'] = (df['stm_fh_ddt'].dt.hour * 60 + df['stm_fh_ddt'].dt.minute) - (df['stm_aanntpl_tijd'].dt.hour * 60 + df['stm_aanntpl_tijd'].dt.minute)\n",
    "\n",
    "df = df.dropna(subset=['stm_hers_tijd','stm_prioriteit' ]) \n",
    "df = df.reset_index(drop=True)"
   ]
  },
  {
   "cell_type": "markdown",
   "metadata": {},
   "source": [
    "#### Nu de data in juiste types staat en gene duplicates in zitten, kunnen we verder gaan met de volgende functies:\n",
    "- prep_data, hierin cleanen we de data nog om de mean square error beter te maken\n",
    "- split_data, om te model te gebruiken, worden er dummies en de data wordt splitst in train en test waardes\n",
    "- dtr_train_model, hier wordt DecisionTreeRegressor gebruikt om de waardes te voorspellen"
   ]
  },
  {
   "cell_type": "code",
   "execution_count": 4,
   "metadata": {},
   "outputs": [],
   "source": [
    "def prep_data(df, nan_columns):    \n",
    "    df = df.dropna(subset=nan_columns)\n",
    "    df = df.reset_index(drop=True)\n",
    "    \n",
    "    # We hebben deze waardes gekozen na overleg met product owner\n",
    "    df = df[(df['stm_hers_tijd'] >= 4) & (df['stm_hers_tijd'] <= 480)]\n",
    "    df = df.reset_index(drop=True)\n",
    "    return df\n",
    "\n",
    "def split_data (df, dummies_columns):\n",
    "    DummiesX = pd.get_dummies(data=df[dummies_columns])\n",
    "    y = df['stm_hers_tijd']\n",
    "    X_train, X_test, y_train, y_test = train_test_split(DummiesX, y, random_state=2)\n",
    "    return X_train, X_test, y_train, y_test\n",
    "\n",
    "def dtr_train_model(X_train, X_test, y_train, y_test, maxDepth):\n",
    "    DTR = DecisionTreeRegressor(max_depth=7)\n",
    "    DTR.fit(X_train,y_train)\n",
    "    y_pred = DTR.predict(X_test)\n",
    "    RMSE = np.sqrt(metrics.mean_squared_error(y_test,y_pred))\n",
    "    r2 = r2_score(y_test, y_pred)\n",
    "    return r2, RMSE"
   ]
  },
  {
   "cell_type": "code",
   "execution_count": 5,
   "metadata": {},
   "outputs": [],
   "source": [
    "df_DTR = df[['#stm_sap_meldnr', 'stm_hers_tijd', 'stm_oorz_groep','stm_prioriteit', 'stm_oorz_code']]"
   ]
  },
  {
   "cell_type": "code",
   "execution_count": 6,
   "metadata": {},
   "outputs": [
    {
     "name": "stdout",
     "output_type": "stream",
     "text": [
      "Decision Tree Regressor: (0.06272165201693758, 75.12609334127268)\n"
     ]
    }
   ],
   "source": [
    "df_DTR = prep_data(df_DTR, ['stm_hers_tijd', 'stm_oorz_code', 'stm_prioriteit'])\n",
    "X_train, X_test, y_train, y_test = split_data(df_DTR, ['stm_oorz_code', 'stm_prioriteit'])\n",
    "\n",
    "print(\"Decision Tree Regressor: \" + str(dtr_train_model(X_train, X_test, y_train, y_test, 7)))"
   ]
  },
  {
   "cell_type": "code",
   "execution_count": null,
   "metadata": {},
   "outputs": [],
   "source": []
  }
 ],
 "metadata": {
  "kernelspec": {
   "display_name": "Python 3",
   "language": "python",
   "name": "python3"
  },
  "language_info": {
   "codemirror_mode": {
    "name": "ipython",
    "version": 3
   },
   "file_extension": ".py",
   "mimetype": "text/x-python",
   "name": "python",
   "nbconvert_exporter": "python",
   "pygments_lexer": "ipython3",
   "version": "3.8.3"
  }
 },
 "nbformat": 4,
 "nbformat_minor": 4
}
