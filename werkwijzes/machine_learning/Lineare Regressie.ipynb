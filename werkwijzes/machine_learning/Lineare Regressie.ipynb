{
 "cells": [
  {
   "cell_type": "code",
   "execution_count": 6,
   "metadata": {},
   "outputs": [],
   "source": [
    "import pandas as pd\n",
    "import seaborn as sn\n",
    "import matplotlib.pyplot as plt\n",
    "import numpy as np\n",
    "from sklearn import metrics\n",
    "from sklearn.linear_model import LinearRegression\n",
    "from sklearn.model_selection import train_test_split\n",
    "from sklearn.metrics import r2_score\n",
    "from sklearn.ensemble import RandomForestRegressor\n",
    "from sklearn.ensemble import RandomForestClassifier\n",
    "from sklearn.datasets import make_classification"
   ]
  },
  {
   "cell_type": "code",
   "execution_count": 7,
   "metadata": {},
   "outputs": [],
   "source": [
    "df = pd.read_csv('sap_storing_data_hu_project.csv', low_memory = False)  "
   ]
  },
  {
   "cell_type": "markdown",
   "metadata": {},
   "source": [
    "# Remove duplicates, date time convert, hersteltijd created, dropped nans"
   ]
  },
  {
   "cell_type": "code",
   "execution_count": 9,
   "metadata": {},
   "outputs": [],
   "source": [
    "df = df.drop_duplicates(subset=['#stm_sap_meldnr'])\n",
    "df = df.reset_index(drop=True)\n",
    "\n",
    "df['stm_aanntpl_tijd']= pd.to_datetime(df['stm_aanntpl_tijd'])\n",
    "df['stm_fh_ddt']= pd.to_datetime(df['stm_fh_ddt'])\n",
    "\n",
    "# Calculate the true reparation time\n",
    "df['stm_hers_tijd'] = (df['stm_fh_ddt'].dt.hour * 60 + df['stm_fh_ddt'].dt.minute) - (df['stm_aanntpl_tijd'].dt.hour * 60 + df['stm_aanntpl_tijd'].dt.minute)\n",
    "\n",
    "df = df.dropna(subset=['stm_hers_tijd','stm_prioriteit' ]) \n",
    "df = df.reset_index(drop=True)"
   ]
  },
  {
   "cell_type": "markdown",
   "metadata": {},
   "source": [
    "#### Nu de data in juiste types staat en gene duplicates in zitten, kunnen we verder gaan met de volgende functies:\n",
    "- prep_data, hierin cleanen we de data nog om de mean square error beter te maken\n",
    "- split_data, om te model te gebruiken, worden er dummies en de data wordt splitst in train en test waardes\n",
    "- lr_train_model, hier wordt linearRegression gebruikt om de waardes te voorspellen"
   ]
  },
  {
   "cell_type": "code",
   "execution_count": 10,
   "metadata": {},
   "outputs": [],
   "source": [
    "\n",
    "\n",
    "def prep_data(df, nan_columns):    \n",
    "    df = df.dropna(subset=nan_columns) #['stm_hers_tijd', 'stm_oorz_code', 'stm_prioriteit']\n",
    "    df = df.reset_index(drop=True)\n",
    "    \n",
    "    # TODO: waarom zoveel weggegooid, explain\n",
    "    df = df[(df['stm_hers_tijd'] >= 4) & (df['stm_hers_tijd'] <= 480)]\n",
    "    df = df.reset_index(drop=True)\n",
    "    return df\n",
    "\n",
    "def split_data (df, dummies_columns):\n",
    "    DummiesX = pd.get_dummies(data=df[dummies_columns]) # ['stm_oorz_code', 'stm_prioriteit']\n",
    "    y = df['stm_hers_tijd']\n",
    "    \n",
    "    X_train, X_test, y_train, y_test = train_test_split(DummiesX, y, random_state=2)\n",
    "    \n",
    "    return X_train, X_test, y_train, y_test\n",
    "\n",
    "def lr_train_model(X_train, X_test, y_train, y_test):\n",
    "    linreg = LinearRegression()\n",
    "    linreg.fit(X_train, y_train)\n",
    "\n",
    "    y_pred = linreg.predict(X_test)\n",
    "\n",
    "    RMSE = np.sqrt(metrics.mean_squared_error(y_test,y_pred))\n",
    "    r2 = r2_score(y_test,y_pred)\n",
    "    return r2, RMSE\n"
   ]
  },
  {
   "cell_type": "code",
   "execution_count": 11,
   "metadata": {},
   "outputs": [],
   "source": [
    "df_LR = df[['#stm_sap_meldnr', 'stm_hers_tijd', 'stm_oorz_groep','stm_prioriteit', 'stm_oorz_code']]"
   ]
  },
  {
   "cell_type": "code",
   "execution_count": 12,
   "metadata": {},
   "outputs": [
    {
     "name": "stdout",
     "output_type": "stream",
     "text": [
      "Lineare Regressie: (0.008806685743852793, 77.25661849637918)\n"
     ]
    }
   ],
   "source": [
    "df_LR = prep_data(df_LR, ['stm_hers_tijd', 'stm_oorz_code', 'stm_prioriteit'])\n",
    "X_train, X_test, y_train, y_test = split_data(df_LR, ['stm_oorz_code', 'stm_prioriteit'])\n",
    "print(\"Lineare Regressie: \" + str(lr_train_model(X_train, X_test, y_train, y_test)))"
   ]
  },
  {
   "cell_type": "code",
   "execution_count": null,
   "metadata": {},
   "outputs": [],
   "source": []
  },
  {
   "cell_type": "code",
   "execution_count": null,
   "metadata": {},
   "outputs": [],
   "source": []
  },
  {
   "cell_type": "code",
   "execution_count": null,
   "metadata": {},
   "outputs": [],
   "source": []
  }
 ],
 "metadata": {
  "kernelspec": {
   "display_name": "Python 3",
   "language": "python",
   "name": "python3"
  },
  "language_info": {
   "codemirror_mode": {
    "name": "ipython",
    "version": 3
   },
   "file_extension": ".py",
   "mimetype": "text/x-python",
   "name": "python",
   "nbconvert_exporter": "python",
   "pygments_lexer": "ipython3",
   "version": "3.7.4"
  }
 },
 "nbformat": 4,
 "nbformat_minor": 4
}
