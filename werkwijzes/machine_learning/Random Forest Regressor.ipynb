{
 "cells": [
  {
   "cell_type": "code",
   "execution_count": null,
   "metadata": {},
   "outputs": [],
   "source": [
    "import pandas as pd\n",
    "import seaborn as sn\n",
    "import matplotlib.pyplot as plt\n",
    "import numpy as np\n",
    "from sklearn import metrics\n",
    "from sklearn.linear_model import LinearRegression\n",
    "from sklearn.model_selection import train_test_split\n",
    "from sklearn.metrics import r2_score\n",
    "from sklearn.ensemble import RandomForestRegressor\n",
    "from sklearn.ensemble import RandomForestClassifier\n",
    "from sklearn.datasets import make_classification"
   ]
  },
  {
   "cell_type": "code",
   "execution_count": null,
   "metadata": {},
   "outputs": [],
   "source": [
    "df = pd.read_csv('sap_storing_data_hu_project.csv', low_memory = False)  "
   ]
  },
  {
   "cell_type": "markdown",
   "metadata": {},
   "source": [
    "# Remove duplicates, date time convert, hersteltijd created, dropped nans"
   ]
  },
  {
   "cell_type": "code",
   "execution_count": null,
   "metadata": {},
   "outputs": [],
   "source": [
    "df = df.drop_duplicates(subset=['#stm_sap_meldnr'])\n",
    "df = df.reset_index(drop=True)\n",
    "\n",
    "df['stm_aanntpl_tijd']= pd.to_datetime(df['stm_aanntpl_tijd'])\n",
    "df['stm_fh_ddt']= pd.to_datetime(df['stm_fh_ddt'])\n",
    "\n",
    "# Calculate the true reparation time\n",
    "df['stm_hers_tijd'] = (df['stm_fh_ddt'].dt.hour * 60 + df['stm_fh_ddt'].dt.minute) - (df['stm_aanntpl_tijd'].dt.hour * 60 + df['stm_aanntpl_tijd'].dt.minute)\n",
    "\n",
    "df = df.dropna(subset=['stm_hers_tijd','stm_prioriteit' ]) \n",
    "df = df.reset_index(drop=True)"
   ]
  },
  {
   "cell_type": "markdown",
   "metadata": {},
   "source": [
    "#### Nu de data in juiste types staat en gene duplicates in zitten, kunnen we verder gaan met de volgende functies:\n",
    "- prep_data, hierin cleanen we de data nog om de mean square error beter te maken\n",
    "- prep_rfr_model, om te model te gebruiken, worden er dummies en de data wordt splitst in train en test waardes\n",
    "- rfr_model, hier wordt randomforestregressor gebruikt om de waardes te voorspellen\n",
    "- rfc_model,hier wordt randomforestclassifier gebruikt om de waardes te voorspellen"
   ]
  },
  {
   "cell_type": "code",
   "execution_count": null,
   "metadata": {},
   "outputs": [],
   "source": [
    "def prep_data (df):\n",
    "    df_Kpog = df.drop_duplicates(subset=['#stm_sap_meldnr'])\n",
    "    df_Kpog = df_Kpog.reset_index(drop=True)\n",
    "    df_Kpog = df_Kpog.dropna(subset=['stm_hers_tijd', 'stm_oorz_code', 'stm_prioriteit']) # , 'stm_oorz_groep'\n",
    "    df_Kpog = df_Kpog.reset_index(drop=True)\n",
    "    df_Kpog = df_Kpog[(df_Kpog['stm_hers_tijd'] >= 4) & (df_Kpog['stm_hers_tijd'] <= 480)]\n",
    "    df_Kpog = df_Kpog.reset_index(drop=True)\n",
    "    return df_Kpog\n",
    "\n",
    "def prep_rfr_model (df):\n",
    "    DummiesX = pd.get_dummies(data=df[['stm_oorz_code', 'stm_prioriteit']]) #, 'stm_oorz_groep']])\n",
    "    DummiesX.head()\n",
    "    y = df['stm_hers_tijd']\n",
    "    X_train, X_test, y_train, y_test = train_test_split(DummiesX, y, random_state=2)\n",
    "    return X_train, X_test, y_train, y_test\n",
    "    \n",
    "def rfr_model (X_train, X_test, y_train, y_test):\n",
    "    regr = RandomForestRegressor(max_depth=15, random_state=0)\n",
    "    regr.fit(X_train, y_train)\n",
    "    y_pred = regr.predict(X_test)\n",
    "    meansquare = np.sqrt(metrics.mean_squared_error(y_test,y_pred))\n",
    "    r2 = r2_score(y_test, y_pred)\n",
    "    return r2, meansquare\n",
    "\n",
    "def rfc_model (X_train, X_test, y_train, y_test):\n",
    "    clf = RandomForestClassifier(max_depth=15, random_state=0)\n",
    "    clf.fit(X_train, y_train)\n",
    "    y_pred = clf.predict(X_test)\n",
    "    meansquare = np.sqrt(metrics.mean_squared_error(y_test,y_pred))\n",
    "    r2 = r2_score(y_test, y_pred)\n",
    "#     print(clf.predict_proba(DummiesX[:5]))\n",
    "    return r2, meansquare\n"
   ]
  },
  {
   "cell_type": "code",
   "execution_count": null,
   "metadata": {},
   "outputs": [],
   "source": [
    "df_Kpog = df[['#stm_sap_meldnr', 'stm_hers_tijd', 'stm_oorz_groep','stm_prioriteit', 'stm_oorz_code']]"
   ]
  },
  {
   "cell_type": "code",
   "execution_count": null,
   "metadata": {},
   "outputs": [
    {
     "name": "stdout",
     "output_type": "stream",
     "text": [
      "Random Forest Classifier: (-0.2877596227585655, 88.05903363398777)\n",
      "Random Forest Regressor: (0.07181898604536596, 74.76061297516087)\n"
     ]
    }
   ],
   "source": [
    "df_Kpog = prep_data (df_Kpog)\n",
    "X_train, X_test, y_train, y_test = prep_rfr_model (df_Kpog)\n",
    "print(\"Random Forest Classifier: \" + str(rfc_model(X_train, X_test, y_train, y_test)))\n",
    "print(\"Random Forest Regressor: \" + str(rfr_model(X_train, X_test, y_train, y_test)))"
   ]
  },
  {
   "cell_type": "code",
   "execution_count": null,
   "metadata": {},
   "outputs": [],
   "source": []
  },
  {
   "cell_type": "code",
   "execution_count": null,
   "metadata": {},
   "outputs": [],
   "source": []
  },
  {
   "cell_type": "code",
   "execution_count": null,
   "metadata": {},
   "outputs": [],
   "source": []
  }
 ],
 "metadata": {
  "kernelspec": {
   "display_name": "Python 3",
   "language": "python",
   "name": "python3"
  },
  "language_info": {
   "codemirror_mode": {
    "name": "ipython",
    "version": 3
   },
   "file_extension": ".py",
   "mimetype": "text/x-python",
   "name": "python",
   "nbconvert_exporter": "python",
   "pygments_lexer": "ipython3",
   "version": "3.7.4"
  }
 },
 "nbformat": 4,
 "nbformat_minor": 4
}
